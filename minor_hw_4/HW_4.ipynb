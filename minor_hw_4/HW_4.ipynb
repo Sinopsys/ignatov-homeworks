{
 "cells": [
  {
   "cell_type": "markdown",
   "metadata": {},
   "source": [
    "## Рекомендательные системы: предсказание оценки"
   ]
  },
  {
   "cell_type": "markdown",
   "metadata": {},
   "source": [
    "Рассмотрим задачу предсказания оценки, которую пользователь поставит фильму. Особенность этой задачи в том, что объекты выборки описываются категориальными признаками, принимающими большое число значений (например: идентификатор пользователя, идентификатор фильма, тэги, киноперсоны).\n",
    "\n",
    "Данные: [MovieLens + IMDb/Rotten Tomatoes](http://files.grouplens.org/datasets/hetrec2011/hetrec2011-movielens-2k-v2.zip) ([описание](http://files.grouplens.org/datasets/hetrec2011/hetrec2011-movielens-readme.txt)). Набор содержит данные о предпочтениях пользователей сервиса рекомендации кинофильмов [MovieLens](http://www.movielens.org/). Пользовательские оценки для фильмов принимают значения в интервале от 0.5 до 5.0, они записаны в файле *user_ratedmovies.dat* (а также в *user_ratedmovies-timestamps.dat*,  где для каждой оценки записана дата и время в формате timestamp), остальные файлы содержат дополнительную информацию о фильмах, которую можно использовать как признаки. Заметьте: кроме оценок (и тегов), про пользователя ничего не известно.\n",
    "\n",
    "Задача: построить модель, предсказывающую оценку пользователя фильму, который он еще не смотрел.\n",
    "\n",
    "Метрика качества: будем считать, что пользователю сервиса доступен блок рекомендаций, который может содержать рекомендации не более чем 5 фильмов.\n",
    "Выберем некоторого пользователя $u$ и обозначим известные для него рейтинги за $R^u$. В качестве тестовых рейтингов $R^u_{test}$ для этого пользователя рассмотрим 5 рейтингов, поставленные последними по времени, в качестве валидационных $R^u_{val}$ — предпоследние 5 рейтингов. Остальные известные рейтинги этого пользователя будут составлять обучающую выборку $R^u_{train}$.\n",
    "Для подбора гиперпараметров в рамках данного задания будем использовать валидационную выборку, предварительно обучив модель на обучающей выборке, а для финальной оценки качества — тестовую выборку, предварительно обучив модель на обучающей и валидационной выборках."
   ]
  },
  {
   "cell_type": "markdown",
   "metadata": {},
   "source": [
    "**1. (1 балл)** Загрузите данные и сформируйте 3 разреженные матрицы пользователи—фильмы для обучающих, валидационных и тестовых рейтингов пользователей соответственно, где в каждой ячейке стоит рейтинг, если он известен, или ноль, если неизвестен."
   ]
  },
  {
   "cell_type": "code",
   "execution_count": 24,
   "metadata": {},
   "outputs": [],
   "source": [
    "import numpy as np\n",
    "import pandas as pd\n",
    "from scipy import sparse\n",
    "from collections import Counter\n",
    "import matplotlib.pyplot as plt\n",
    "from sklearn.decomposition import TruncatedSVD\n",
    "%matplotlib inline"
   ]
  },
  {
   "cell_type": "code",
   "execution_count": 2,
   "metadata": {},
   "outputs": [],
   "source": [
    "ratings = pd.read_csv('user_ratedmovies-timestamps.dat', sep='\\t')"
   ]
  },
  {
   "cell_type": "code",
   "execution_count": 3,
   "metadata": {},
   "outputs": [
    {
     "data": {
      "text/html": [
       "<div>\n",
       "<style scoped>\n",
       "    .dataframe tbody tr th:only-of-type {\n",
       "        vertical-align: middle;\n",
       "    }\n",
       "\n",
       "    .dataframe tbody tr th {\n",
       "        vertical-align: top;\n",
       "    }\n",
       "\n",
       "    .dataframe thead th {\n",
       "        text-align: right;\n",
       "    }\n",
       "</style>\n",
       "<table border=\"1\" class=\"dataframe\">\n",
       "  <thead>\n",
       "    <tr style=\"text-align: right;\">\n",
       "      <th></th>\n",
       "      <th>userID</th>\n",
       "      <th>movieID</th>\n",
       "      <th>rating</th>\n",
       "      <th>timestamp</th>\n",
       "    </tr>\n",
       "  </thead>\n",
       "  <tbody>\n",
       "    <tr>\n",
       "      <th>0</th>\n",
       "      <td>75</td>\n",
       "      <td>3</td>\n",
       "      <td>1.0</td>\n",
       "      <td>1162160236000</td>\n",
       "    </tr>\n",
       "    <tr>\n",
       "      <th>1</th>\n",
       "      <td>75</td>\n",
       "      <td>32</td>\n",
       "      <td>4.5</td>\n",
       "      <td>1162160624000</td>\n",
       "    </tr>\n",
       "    <tr>\n",
       "      <th>2</th>\n",
       "      <td>75</td>\n",
       "      <td>110</td>\n",
       "      <td>4.0</td>\n",
       "      <td>1162161008000</td>\n",
       "    </tr>\n",
       "    <tr>\n",
       "      <th>3</th>\n",
       "      <td>75</td>\n",
       "      <td>160</td>\n",
       "      <td>2.0</td>\n",
       "      <td>1162160212000</td>\n",
       "    </tr>\n",
       "    <tr>\n",
       "      <th>4</th>\n",
       "      <td>75</td>\n",
       "      <td>163</td>\n",
       "      <td>4.0</td>\n",
       "      <td>1162160970000</td>\n",
       "    </tr>\n",
       "  </tbody>\n",
       "</table>\n",
       "</div>"
      ],
      "text/plain": [
       "   userID  movieID  rating      timestamp\n",
       "0      75        3     1.0  1162160236000\n",
       "1      75       32     4.5  1162160624000\n",
       "2      75      110     4.0  1162161008000\n",
       "3      75      160     2.0  1162160212000\n",
       "4      75      163     4.0  1162160970000"
      ]
     },
     "execution_count": 3,
     "metadata": {},
     "output_type": "execute_result"
    }
   ],
   "source": [
    "ratings.head()"
   ]
  },
  {
   "cell_type": "code",
   "execution_count": 4,
   "metadata": {},
   "outputs": [
    {
     "data": {
      "text/plain": [
       "(855598, 4)"
      ]
     },
     "execution_count": 4,
     "metadata": {},
     "output_type": "execute_result"
    }
   ],
   "source": [
    "ratings.shape"
   ]
  },
  {
   "cell_type": "code",
   "execution_count": 5,
   "metadata": {},
   "outputs": [
    {
     "data": {
      "text/plain": [
       "2113"
      ]
     },
     "execution_count": 5,
     "metadata": {},
     "output_type": "execute_result"
    }
   ],
   "source": [
    "len(ratings['userID'].unique())"
   ]
  },
  {
   "cell_type": "markdown",
   "metadata": {},
   "source": [
    "`userID` и `movieID` много раз повторяются и идут не подряд. Можно его заменить своим положением в отсортированной таблице (аналогично логике разреженной матрицы)"
   ]
  },
  {
   "cell_type": "code",
   "execution_count": 6,
   "metadata": {},
   "outputs": [],
   "source": [
    "new_userIDs = dict()\n",
    "userIDs = list(set(ratings['userID']))\n",
    "userIDs.sort()\n",
    "for i in range(len(userIDs)):\n",
    "    new_userIDs[userIDs[i]] = i\n",
    "\n",
    "new_movieIDs = dict()\n",
    "movieIDs = list(set(ratings['movieID']))\n",
    "movieIDs.sort()\n",
    "for i in range(len(movieIDs)):\n",
    "    new_movieIDs[movieIDs[i]] = i\n",
    "ratings['compressed_userID'] = [new_userIDs[x] for x in ratings['userID']]\n",
    "ratings['compressed_movieID'] = [new_movieIDs[x] for x in ratings['movieID']]"
   ]
  },
  {
   "cell_type": "markdown",
   "metadata": {},
   "source": [
    "Сгруппируем по юзерам и разделим на train, test и val выборки."
   ]
  },
  {
   "cell_type": "code",
   "execution_count": 9,
   "metadata": {},
   "outputs": [
    {
     "name": "stdout",
     "output_type": "stream",
     "text": [
      "(834468, 6)\n",
      "(10565, 6)\n",
      "(10565, 6)\n"
     ]
    }
   ],
   "source": [
    "train_df = pd.DataFrame(columns=ratings.columns)\n",
    "val_df = pd.DataFrame(columns=ratings.columns)\n",
    "test_df = pd.DataFrame(columns=ratings.columns)\n",
    "grouped = list(ratings.groupby('compressed_userID'))\n",
    "for item in grouped:\n",
    "    df = item[1]\n",
    "    if df.shape[0] < 11:\n",
    "        continue\n",
    "    df = df.sort_values(by='timestamp')\n",
    "    to_test = df[-5:]\n",
    "    to_val = df[-10:-5]\n",
    "    to_train = df[:-10]\n",
    "    train_df = train_df.append(to_train)\n",
    "    test_df = test_df.append(to_test)\n",
    "    val_df = val_df.append(to_val)\n",
    "print(train_df.shape)\n",
    "print(test_df.shape)\n",
    "print(val_df.shape)"
   ]
  },
  {
   "cell_type": "code",
   "execution_count": 12,
   "metadata": {},
   "outputs": [],
   "source": [
    "n_users = len(new_userIDs)\n",
    "n_movies = len(new_movieIDs)"
   ]
  },
  {
   "cell_type": "code",
   "execution_count": 38,
   "metadata": {},
   "outputs": [],
   "source": [
    "train_sm = sparse.csr_matrix((train_df['rating'].values,\n",
    "                            (train_df['compressed_userID'].values,\n",
    "                             train_df['compressed_movieID'].values)),\n",
    "                            shape=(n_users, n_movies))\n",
    "test_sm = sparse.csr_matrix((test_df['rating'].values,\n",
    "                            (test_df['compressed_userID'].values,\n",
    "                             test_df['compressed_movieID'].values)),\n",
    "                            shape=(n_users, n_movies))\n",
    "val_sm = sparse.csr_matrix((val_df['rating'].values,\n",
    "                            (val_df['compressed_userID'].values,\n",
    "                             val_df['compressed_movieID'].values)),\n",
    "                            shape=(n_users, n_movies))"
   ]
  },
  {
   "cell_type": "markdown",
   "metadata": {},
   "source": [
    "Качество рекомендаций: будем использовать метрики RMSE@k и nDCG@k для $k=5$, описанные ниже.\n",
    "\n",
    "#### RMSE@k\n",
    "\n",
    "Поскольку нас интересуют лишь фильмы, попавшие в блок рекомендаций, качество работы модели можно оценивать при помощи RMSE на $k$ фильмах с наибольшим предсказанным рейтингом, где $k$ — размер блока рекомендаций. Отсортируем предсказанные моделью рейтинги $\\hat{r}_{ui}$ в порядке убывания и обозначим $i$-ый элемент в полученной последовательности за $\\hat{r}_{u(i)},$ а соответствующее этому фильму истинное значение рейтинга — за $r_{u(i)}$. Тогда RMSE@k:\n",
    "\n",
    "$$ \\text{RMSE@k}(u) = \\sqrt{ \\frac{1}{k} \\sum_{i=1}^k (r_{u(i)} - \\hat{r}_{u(i)})^2 },$$\n",
    "$$ \\text{RMSE@k} = \\frac{1}{|U|} \\sum_{u \\in U} \\text{RMSE@k}(u),$$\n",
    "где $U$ — множество пользователей. При вычислении данной метрики все неизвестные оценки будем полагать равными 0.\n",
    "\n",
    "#### nDCG@k\n",
    "\n",
    "Также можно использовать метрику качества ранжирования. Для этого для каждого пользователя $u$ предскажем оценку для всех фильмов из $R^u_{test}$ и отсортируем эти фильмы по убыванию предсказанного рейтинга. Ожидается, что хороший алгоритм должен выдать релевантные фильмы вверху списка. Отсортируем предсказанные моделью рейтинги $\\hat{r}_{ui}$ в порядке убывания и обозначим $i$-ый элемент в полученной последовательности за $\\hat{r}_{u(i)},$ а соответствующее этому фильму истинное значение рейтинга — за $r_{u(i)}.$\n",
    "\n",
    "Тогда nDCG@k :\n",
    "\n",
    "$$\\text{DCG@k}(u) = \\sum_{i=1}^k g(r_{u(i)}) d(i),$$\n",
    "$$\\text{nDCG@k}(u) = \\frac{\\text{DCG@k}(u)}{\\max \\text{DCG@k}(u)},$$\n",
    "$$\\text{nDCG@k} = \\frac{1}{|U|} \\sum_{u \\in U} \\text{nDCG@k}(u),$$\n",
    "где $g(r)$ — функция полезности фильма, а  $d(i)$ — штраф за позицию.\n",
    "\n",
    "Положим $g(r) = 2^r-1, \\, d(i) = \\frac{1}{\\log_2 (i+1)}.$ При вычислении данной метрики все неизвестные оценки будем полагать равными 0."
   ]
  },
  {
   "cell_type": "markdown",
   "metadata": {},
   "source": [
    "**2. (2 балла)** Реализуйте функции rmse_score и ndcg_score, вычисляющие значения описанных выше метрик. Каждая из функций в качестве параметров должна принимать:\n",
    " * y_true — матрицу тестовых рейтингов (сформированную аналогично матрице тестовых рейтингов из предыдущего пункта; функция должна корректно работать и для разреженных, и для плотных матриц);\n",
    " * y_predicted — матрицу предсказаний модели в аналогичном формате (функция должна корректно работать и для разреженных, и для плотных матриц);\n",
    " * k — параметр $k$ в определениях метрик."
   ]
  },
  {
   "cell_type": "code",
   "execution_count": 16,
   "metadata": {},
   "outputs": [],
   "source": [
    "def rmse_score(y_true, y_predicted, k=5):\n",
    "    if type(y_predicted) == type(sparse.csr_matrix([])):\n",
    "        y_predicted = y_predicted.toarray()\n",
    "    else:\n",
    "        y_predicted = np.array(y_predicted)\n",
    "    if type(y_true) == type(sparse.csr_matrix([])):\n",
    "        y_true = y_true.toarray()\n",
    "    else:\n",
    "        y_true = np.array(y_true)\n",
    "    sum_rmses = 0\n",
    "    n = y_true.shape[0]\n",
    "    diff_sqrs = (y_predicted - y_true) ** 2\n",
    "    argsort = y_predicted.argsort(axis=1)[:, ::-1]\n",
    "    for i in range(n):\n",
    "        most_recommended = argsort[i][:k]\n",
    "        sum_rmses += np.sqrt(diff_sqrs[i][most_recommended].mean())\n",
    "    return sum_rmses / n\n",
    "\n",
    "def ndcg_score(y_true, y_predicted, k=5):\n",
    "    if type(y_predicted) == type(sparse.csr_matrix([])):\n",
    "        y_predicted = y_predicted.toarray()\n",
    "    else:\n",
    "        y_predicted = np.array(y_predicted)\n",
    "    if type(y_true) == type(sparse.csr_matrix([])):\n",
    "        y_true = y_true.toarray()\n",
    "    else:\n",
    "        y_true = np.array(y_true)\n",
    "    g = lambda r: 2 ** r - 1\n",
    "    d = lambda i: 1 / np.log2(i + 2)\n",
    "    max_dcg = g(5) * d(np.arange(k)).sum()\n",
    "    if type(y_predicted) == type(sparse.csr_matrix([])):\n",
    "        y_predicted = y_predicted.toarray()\n",
    "    if type(y_true) == type(sparse.csr_matrix([])):\n",
    "        y_true = y_true.toarray()\n",
    "    n, m = y_true.shape\n",
    "    dcg = []\n",
    "    argsort = y_predicted.argsort(axis=1)[:, ::-1]\n",
    "    for i in range(n):\n",
    "        most_recommended = argsort[i][:k]\n",
    "        true_ratings = y_true[i][most_recommended]\n",
    "        dcg.append(np.sum(g(true_ratings) * d(np.arange(k))))\n",
    "    dcg = np.array(dcg)\n",
    "    return (dcg / max_dcg).mean()"
   ]
  },
  {
   "cell_type": "markdown",
   "metadata": {},
   "source": [
    "**3. (1 балл)** Постройте рекомендации на основе **most popular** метода, при котором предсказанный рейтинг для некоторого фильма $i$ одинаков для всех пользователей и совпадает со средним значением рейтинга по всем пользователям, оценившим этот фильм, и вычислите значения метрик RMSE@5 и nDCG@5 для тестовой матрицы из п. 1."
   ]
  },
  {
   "cell_type": "code",
   "execution_count": 17,
   "metadata": {},
   "outputs": [
    {
     "name": "stderr",
     "output_type": "stream",
     "text": [
      "/usr/lib/python2.7/site-packages/ipykernel_launcher.py:5: RuntimeWarning: invalid value encountered in divide\n",
      "  \"\"\"\n"
     ]
    }
   ],
   "source": [
    "nonzero = train_sm.nonzero()\n",
    "ones = sparse.csr_matrix((np.ones_like(nonzero[0]), nonzero), shape=(n_users, n_movies))\n",
    "avg_rating = train_sm.sum(axis=0) / ones.sum(axis=0)\n",
    "avg_rating = np.array(np.nan_to_num(avg_rating))[0]"
   ]
  },
  {
   "cell_type": "code",
   "execution_count": 18,
   "metadata": {},
   "outputs": [
    {
     "name": "stdout",
     "output_type": "stream",
     "text": [
      "('RMSE:', 4.9981612359105165)\n",
      "('NDCG:', 0.000514153643899961)\n"
     ]
    }
   ],
   "source": [
    "most_popular_prediction = np.tile(avg_rating, n_users).reshape((n_users, n_movies))\n",
    "\n",
    "rmse = rmse_score(test_sm, most_popular_prediction)\n",
    "ndcg = ndcg_score(test_sm, most_popular_prediction)\n",
    "\n",
    "print('RMSE:', rmse)\n",
    "print('NDCG:', ndcg)"
   ]
  },
  {
   "cell_type": "markdown",
   "metadata": {},
   "source": [
    "Видим, что значения метрик низкие. Так как у всех пользователей разные предпочтения, то рекомендация всем пользователям одних и тех же популярных фильмов не даст очень хороших результатов. Нужно как-то учитывать предпочтения пользователей."
   ]
  },
  {
   "cell_type": "markdown",
   "metadata": {},
   "source": [
    "**4. (1 балл)** Реализуйте построение рекомендаций путём разложения матрицы рейтингов с помощью [разреженного SVD](http://scikit-learn.org/stable/modules/generated/sklearn.decomposition.TruncatedSVD.html) (в предположении, что неизвестные рейтинги заменяются на нули) и последующего её восстановления и постройте график зависимости метрик RMSE@5 и nDCG@5 от значения ранга разложения на валидационной выборке (рассмотрите как минимум 10 различных значений ранга разложения)"
   ]
  },
  {
   "cell_type": "code",
   "execution_count": 27,
   "metadata": {},
   "outputs": [
    {
     "name": "stdout",
     "output_type": "stream",
     "text": [
      "d: 5, RMSE: 3.19029126943, nDCG: 0.00793235976871\n",
      "d: 10, RMSE: 3.42410728642, nDCG: 0.00663997126773\n",
      "d: 15, RMSE: 3.59822418507, nDCG: 0.00635221265789\n",
      "d: 20, RMSE: 3.72593467597, nDCG: 0.00649425848815\n",
      "d: 25, RMSE: 3.82463117723, nDCG: 0.00503374871894\n",
      "d: 30, RMSE: 3.87787843966, nDCG: 0.00534389156285\n",
      "d: 35, RMSE: 3.92825408908, nDCG: 0.00435807142304\n",
      "d: 40, RMSE: 4.00345160737, nDCG: 0.00437540941911\n",
      "d: 45, RMSE: 4.0388256871, nDCG: 0.00379541576939\n",
      "d: 50, RMSE: 4.07999588252, nDCG: 0.00373009425534\n"
     ]
    }
   ],
   "source": [
    "rmses = []\n",
    "ndcgs = []\n",
    "for d in range(5, 51, 5):\n",
    "    svd = TruncatedSVD(n_components=d)\n",
    "    reduced_matrix = svd.fit_transform(train_sm)\n",
    "    prediction = np.dot(reduced_matrix, svd.components_)\n",
    "    rmse = rmse_score(val_sm, prediction)\n",
    "    ndcg = ndcg_score(val_sm, prediction)\n",
    "    rmses.append(rmse)\n",
    "    ndcgs.append(ndcg)\n",
    "    print('d: {}, RMSE: {}, nDCG: {}'.format(d, rmse, ndcg))"
   ]
  },
  {
   "cell_type": "code",
   "execution_count": 40,
   "metadata": {},
   "outputs": [
    {
     "data": {
      "text/plain": [
       "(0, 0.00814247304438136)"
      ]
     },
     "execution_count": 40,
     "metadata": {},
     "output_type": "execute_result"
    },
    {
     "data": {
      "image/png": "[encoded data removed]",
      "text/plain": [
       "<matplotlib.figure.Figure at 0x7fd41bdef690>"
      ]
     },
     "metadata": {},
     "output_type": "display_data"
    }
   ],
   "source": [
    "plt.figure(figsize=(15, 10))\n",
    "plt.subplot(2, 1, 1)\n",
    "plt.title('RMSE', fontsize=18)\n",
    "plt.plot(range(5, 51, 5), rmses)\n",
    "plt.ylim((0, None))\n",
    "plt.subplot(2, 1, 2)\n",
    "plt.title('nDCG', fontsize=18)\n",
    "plt.plot(range(5, 51, 5), ndcgs)\n",
    "plt.ylim((0, None))"
   ]
  },
  {
   "cell_type": "markdown",
   "metadata": {
    "collapsed": true
   },
   "source": [
    "**5. (3 балла)** Постройте рекомендации на основе user-based коллаборативной фильтрации. \n",
    "Предсказание модели $\\hat{r}_{ui}$ вычисляйте по следующей формуле:\n",
    "$$\\hat{r}_{ui} = \\bar{r}_{u} + \\frac{\\sum_{v \\in U(u)} w_{uv} (r_{vi} - \\bar{r}_v)}{\\sum_{v \\in U(u)} w_{uv}},$$\n",
    "где $\\bar{r}_u$ — средний ретинг пользователя $u$, $w_{uv}$ — мера сходства пользователей $u$ и $v$, $U(u) = \\{ v \\in U \\, | \\, w_{uv} > \\alpha\\}$ — коллаборация пользователя $u$. \n",
    "\n",
    "Значение параметра $\\alpha$ возьмите равным 0.9.\n",
    "\n",
    "Вычислите значения метрик RMSE@5 и nDCG@5 на тестовой выборке."
   ]
  },
  {
   "cell_type": "markdown",
   "metadata": {},
   "source": [
    "Матрица похожести $W$"
   ]
  },
  {
   "cell_type": "code",
   "execution_count": 33,
   "metadata": {},
   "outputs": [],
   "source": [
    "W = np.corrcoef(train_sm.todense())"
   ]
  },
  {
   "cell_type": "markdown",
   "metadata": {},
   "source": [
    "Для $\\alpha$ от 0.1 до 0.5 с шагом 0.05 построим предсказание и посмотрим его RMSE и NDCG на валидации. Выберем то $\\alpha$, на котором RMSE больше всего."
   ]
  },
  {
   "cell_type": "code",
   "execution_count": 35,
   "metadata": {},
   "outputs": [],
   "source": [
    "def user_based_collaborative_filtering(train_sm, alpha):\n",
    "    r_mean = train_sm.sum(axis=1) / ones.sum(axis=1)\n",
    "    r_mean = np.array(r_mean).T[0]\n",
    "    prediction = []\n",
    "    for u in range(n_users):\n",
    "        U = np.array(W[u] > alpha).nonzero()[0]\n",
    "        w = W[u][U]\n",
    "        R = train_sm[U, :]\n",
    "        sum_of_collab = np.dot(w, (R.T - r_mean[U]).T)\n",
    "        sum_of_collab = np.array(sum_of_collab)[0]\n",
    "        our_prediction = r_mean[u] + sum_of_collab / w.sum()\n",
    "        prediction.append(our_prediction)\n",
    "    prediction = np.array(prediction)\n",
    "    return prediction"
   ]
  },
  {
   "cell_type": "code",
   "execution_count": 36,
   "metadata": {},
   "outputs": [
    {
     "name": "stdout",
     "output_type": "stream",
     "text": [
      "alpha = 0.5, rmse: 4.85732182694, ndcg: 0.0\n",
      "alpha = 0.45, rmse: 4.75382094356, ndcg: 0.0\n",
      "alpha = 0.4, rmse: 4.60387780772, ndcg: 0.000114852392438\n",
      "alpha = 0.35, rmse: 4.43084755512, ndcg: 0.000478317287077\n",
      "alpha = 0.3, rmse: 4.2462718996, ndcg: 0.000801051656065\n",
      "alpha = 0.25, rmse: 4.05399326686, ndcg: 0.00133101599655\n"
     ]
    },
    {
     "ename": "KeyboardInterrupt",
     "evalue": "",
     "output_type": "error",
     "traceback": [
      "\u001b[0;31m---------------------------------------------------------------------------\u001b[0m",
      "\u001b[0;31mKeyboardInterrupt\u001b[0m                         Traceback (most recent call last)",
      "\u001b[0;32m<ipython-input-36-cfe344cc2227>\u001b[0m in \u001b[0;36m<module>\u001b[0;34m()\u001b[0m\n\u001b[1;32m      1\u001b[0m \u001b[0;32mfor\u001b[0m \u001b[0malpha\u001b[0m \u001b[0;32min\u001b[0m \u001b[0mnp\u001b[0m\u001b[0;34m.\u001b[0m\u001b[0marange\u001b[0m\u001b[0;34m(\u001b[0m\u001b[0;36m0.5\u001b[0m\u001b[0;34m,\u001b[0m \u001b[0;36m0.09\u001b[0m\u001b[0;34m,\u001b[0m \u001b[0;34m-\u001b[0m\u001b[0;36m0.05\u001b[0m\u001b[0;34m)\u001b[0m\u001b[0;34m:\u001b[0m\u001b[0;34m\u001b[0m\u001b[0m\n\u001b[1;32m      2\u001b[0m     \u001b[0mmin_rmse\u001b[0m \u001b[0;34m=\u001b[0m \u001b[0;36m5\u001b[0m\u001b[0;34m\u001b[0m\u001b[0m\n\u001b[0;32m----> 3\u001b[0;31m     \u001b[0mprediction\u001b[0m \u001b[0;34m=\u001b[0m \u001b[0muser_based_collaborative_filtering\u001b[0m\u001b[0;34m(\u001b[0m\u001b[0mtrain_sm\u001b[0m\u001b[0;34m,\u001b[0m \u001b[0malpha\u001b[0m\u001b[0;34m)\u001b[0m\u001b[0;34m\u001b[0m\u001b[0m\n\u001b[0m\u001b[1;32m      4\u001b[0m     \u001b[0mrmse\u001b[0m \u001b[0;34m=\u001b[0m \u001b[0mrmse_score\u001b[0m\u001b[0;34m(\u001b[0m\u001b[0mval_sm\u001b[0m\u001b[0;34m,\u001b[0m \u001b[0mprediction\u001b[0m\u001b[0;34m)\u001b[0m\u001b[0;34m\u001b[0m\u001b[0m\n\u001b[1;32m      5\u001b[0m     \u001b[0mndcg\u001b[0m \u001b[0;34m=\u001b[0m \u001b[0mndcg_score\u001b[0m\u001b[0;34m(\u001b[0m\u001b[0mval_sm\u001b[0m\u001b[0;34m,\u001b[0m \u001b[0mprediction\u001b[0m\u001b[0;34m)\u001b[0m\u001b[0;34m\u001b[0m\u001b[0m\n",
      "\u001b[0;32m<ipython-input-35-686594521afa>\u001b[0m in \u001b[0;36muser_based_collaborative_filtering\u001b[0;34m(train_sm, alpha)\u001b[0m\n\u001b[1;32m      7\u001b[0m         \u001b[0mw\u001b[0m \u001b[0;34m=\u001b[0m \u001b[0mW\u001b[0m\u001b[0;34m[\u001b[0m\u001b[0mu\u001b[0m\u001b[0;34m]\u001b[0m\u001b[0;34m[\u001b[0m\u001b[0mU\u001b[0m\u001b[0;34m]\u001b[0m\u001b[0;34m\u001b[0m\u001b[0m\n\u001b[1;32m      8\u001b[0m         \u001b[0mR\u001b[0m \u001b[0;34m=\u001b[0m \u001b[0mtrain_sm\u001b[0m\u001b[0;34m[\u001b[0m\u001b[0mU\u001b[0m\u001b[0;34m,\u001b[0m \u001b[0;34m:\u001b[0m\u001b[0;34m]\u001b[0m\u001b[0;34m\u001b[0m\u001b[0m\n\u001b[0;32m----> 9\u001b[0;31m         \u001b[0msum_of_collab\u001b[0m \u001b[0;34m=\u001b[0m \u001b[0mnp\u001b[0m\u001b[0;34m.\u001b[0m\u001b[0mdot\u001b[0m\u001b[0;34m(\u001b[0m\u001b[0mw\u001b[0m\u001b[0;34m,\u001b[0m \u001b[0;34m(\u001b[0m\u001b[0mR\u001b[0m\u001b[0;34m.\u001b[0m\u001b[0mT\u001b[0m \u001b[0;34m-\u001b[0m \u001b[0mr_mean\u001b[0m\u001b[0;34m[\u001b[0m\u001b[0mU\u001b[0m\u001b[0;34m]\u001b[0m\u001b[0;34m)\u001b[0m\u001b[0;34m.\u001b[0m\u001b[0mT\u001b[0m\u001b[0;34m)\u001b[0m\u001b[0;34m\u001b[0m\u001b[0m\n\u001b[0m\u001b[1;32m     10\u001b[0m         \u001b[0msum_of_collab\u001b[0m \u001b[0;34m=\u001b[0m \u001b[0mnp\u001b[0m\u001b[0;34m.\u001b[0m\u001b[0marray\u001b[0m\u001b[0;34m(\u001b[0m\u001b[0msum_of_collab\u001b[0m\u001b[0;34m)\u001b[0m\u001b[0;34m[\u001b[0m\u001b[0;36m0\u001b[0m\u001b[0;34m]\u001b[0m\u001b[0;34m\u001b[0m\u001b[0m\n\u001b[1;32m     11\u001b[0m         \u001b[0mour_prediction\u001b[0m \u001b[0;34m=\u001b[0m \u001b[0mr_mean\u001b[0m\u001b[0;34m[\u001b[0m\u001b[0mu\u001b[0m\u001b[0;34m]\u001b[0m \u001b[0;34m+\u001b[0m \u001b[0msum_of_collab\u001b[0m \u001b[0;34m/\u001b[0m \u001b[0mw\u001b[0m\u001b[0;34m.\u001b[0m\u001b[0msum\u001b[0m\u001b[0;34m(\u001b[0m\u001b[0;34m)\u001b[0m\u001b[0;34m\u001b[0m\u001b[0m\n",
      "\u001b[0;32m/usr/lib/python2.7/site-packages/scipy/sparse/base.pyc\u001b[0m in \u001b[0;36m__sub__\u001b[0;34m(self, other)\u001b[0m\n\u001b[1;32m    395\u001b[0m         \u001b[0;32melif\u001b[0m \u001b[0misdense\u001b[0m\u001b[0;34m(\u001b[0m\u001b[0mother\u001b[0m\u001b[0;34m)\u001b[0m\u001b[0;34m:\u001b[0m\u001b[0;34m\u001b[0m\u001b[0m\n\u001b[1;32m    396\u001b[0m             \u001b[0mother\u001b[0m \u001b[0;34m=\u001b[0m \u001b[0mbroadcast_to\u001b[0m\u001b[0;34m(\u001b[0m\u001b[0mother\u001b[0m\u001b[0;34m,\u001b[0m \u001b[0mself\u001b[0m\u001b[0;34m.\u001b[0m\u001b[0mshape\u001b[0m\u001b[0;34m)\u001b[0m\u001b[0;34m\u001b[0m\u001b[0m\n\u001b[0;32m--> 397\u001b[0;31m             \u001b[0;32mreturn\u001b[0m \u001b[0mself\u001b[0m\u001b[0;34m.\u001b[0m\u001b[0m_sub_dense\u001b[0m\u001b[0;34m(\u001b[0m\u001b[0mother\u001b[0m\u001b[0;34m)\u001b[0m\u001b[0;34m\u001b[0m\u001b[0m\n\u001b[0m\u001b[1;32m    398\u001b[0m         \u001b[0;32melse\u001b[0m\u001b[0;34m:\u001b[0m\u001b[0;34m\u001b[0m\u001b[0m\n\u001b[1;32m    399\u001b[0m             \u001b[0;32mreturn\u001b[0m \u001b[0mNotImplemented\u001b[0m\u001b[0;34m\u001b[0m\u001b[0m\n",
      "\u001b[0;32m/usr/lib/python2.7/site-packages/scipy/sparse/base.pyc\u001b[0m in \u001b[0;36m_sub_dense\u001b[0;34m(self, other)\u001b[0m\n\u001b[1;32m    357\u001b[0m \u001b[0;34m\u001b[0m\u001b[0m\n\u001b[1;32m    358\u001b[0m     \u001b[0;32mdef\u001b[0m \u001b[0m_sub_dense\u001b[0m\u001b[0;34m(\u001b[0m\u001b[0mself\u001b[0m\u001b[0;34m,\u001b[0m \u001b[0mother\u001b[0m\u001b[0;34m)\u001b[0m\u001b[0;34m:\u001b[0m\u001b[0;34m\u001b[0m\u001b[0m\n\u001b[0;32m--> 359\u001b[0;31m         \u001b[0;32mreturn\u001b[0m \u001b[0mself\u001b[0m\u001b[0;34m.\u001b[0m\u001b[0mtodense\u001b[0m\u001b[0;34m(\u001b[0m\u001b[0;34m)\u001b[0m \u001b[0;34m-\u001b[0m \u001b[0mother\u001b[0m\u001b[0;34m\u001b[0m\u001b[0m\n\u001b[0m\u001b[1;32m    360\u001b[0m \u001b[0;34m\u001b[0m\u001b[0m\n\u001b[1;32m    361\u001b[0m     \u001b[0;32mdef\u001b[0m \u001b[0m_rsub_dense\u001b[0m\u001b[0;34m(\u001b[0m\u001b[0mself\u001b[0m\u001b[0;34m,\u001b[0m \u001b[0mother\u001b[0m\u001b[0;34m)\u001b[0m\u001b[0;34m:\u001b[0m\u001b[0;34m\u001b[0m\u001b[0m\n",
      "\u001b[0;32m/usr/lib/python2.7/site-packages/scipy/sparse/base.pyc\u001b[0m in \u001b[0;36mtodense\u001b[0;34m(self, order, out)\u001b[0m\n\u001b[1;32m    790\u001b[0m             \u001b[0;34m`\u001b[0m\u001b[0mnumpy\u001b[0m\u001b[0;34m.\u001b[0m\u001b[0mmatrix\u001b[0m\u001b[0;34m`\u001b[0m \u001b[0mobject\u001b[0m \u001b[0mthat\u001b[0m \u001b[0mshares\u001b[0m \u001b[0mthe\u001b[0m \u001b[0msame\u001b[0m \u001b[0mmemory\u001b[0m\u001b[0;34m.\u001b[0m\u001b[0;34m\u001b[0m\u001b[0m\n\u001b[1;32m    791\u001b[0m         \"\"\"\n\u001b[0;32m--> 792\u001b[0;31m         \u001b[0;32mreturn\u001b[0m \u001b[0mnp\u001b[0m\u001b[0;34m.\u001b[0m\u001b[0masmatrix\u001b[0m\u001b[0;34m(\u001b[0m\u001b[0mself\u001b[0m\u001b[0;34m.\u001b[0m\u001b[0mtoarray\u001b[0m\u001b[0;34m(\u001b[0m\u001b[0morder\u001b[0m\u001b[0;34m=\u001b[0m\u001b[0morder\u001b[0m\u001b[0;34m,\u001b[0m \u001b[0mout\u001b[0m\u001b[0;34m=\u001b[0m\u001b[0mout\u001b[0m\u001b[0;34m)\u001b[0m\u001b[0;34m)\u001b[0m\u001b[0;34m\u001b[0m\u001b[0m\n\u001b[0m\u001b[1;32m    793\u001b[0m \u001b[0;34m\u001b[0m\u001b[0m\n\u001b[1;32m    794\u001b[0m     \u001b[0;32mdef\u001b[0m \u001b[0mtoarray\u001b[0m\u001b[0;34m(\u001b[0m\u001b[0mself\u001b[0m\u001b[0;34m,\u001b[0m \u001b[0morder\u001b[0m\u001b[0;34m=\u001b[0m\u001b[0mNone\u001b[0m\u001b[0;34m,\u001b[0m \u001b[0mout\u001b[0m\u001b[0;34m=\u001b[0m\u001b[0mNone\u001b[0m\u001b[0;34m)\u001b[0m\u001b[0;34m:\u001b[0m\u001b[0;34m\u001b[0m\u001b[0m\n",
      "\u001b[0;32m/usr/lib/python2.7/site-packages/scipy/sparse/compressed.pyc\u001b[0m in \u001b[0;36mtoarray\u001b[0;34m(self, order, out)\u001b[0m\n\u001b[1;32m    952\u001b[0m             \u001b[0my\u001b[0m \u001b[0;34m=\u001b[0m \u001b[0mout\u001b[0m\u001b[0;34m.\u001b[0m\u001b[0mT\u001b[0m\u001b[0;34m\u001b[0m\u001b[0m\n\u001b[1;32m    953\u001b[0m         \u001b[0mM\u001b[0m\u001b[0;34m,\u001b[0m \u001b[0mN\u001b[0m \u001b[0;34m=\u001b[0m \u001b[0mx\u001b[0m\u001b[0;34m.\u001b[0m\u001b[0m_swap\u001b[0m\u001b[0;34m(\u001b[0m\u001b[0mx\u001b[0m\u001b[0;34m.\u001b[0m\u001b[0mshape\u001b[0m\u001b[0;34m)\u001b[0m\u001b[0;34m\u001b[0m\u001b[0m\n\u001b[0;32m--> 954\u001b[0;31m         \u001b[0m_sparsetools\u001b[0m\u001b[0;34m.\u001b[0m\u001b[0mcsr_todense\u001b[0m\u001b[0;34m(\u001b[0m\u001b[0mM\u001b[0m\u001b[0;34m,\u001b[0m \u001b[0mN\u001b[0m\u001b[0;34m,\u001b[0m \u001b[0mx\u001b[0m\u001b[0;34m.\u001b[0m\u001b[0mindptr\u001b[0m\u001b[0;34m,\u001b[0m \u001b[0mx\u001b[0m\u001b[0;34m.\u001b[0m\u001b[0mindices\u001b[0m\u001b[0;34m,\u001b[0m \u001b[0mx\u001b[0m\u001b[0;34m.\u001b[0m\u001b[0mdata\u001b[0m\u001b[0;34m,\u001b[0m \u001b[0my\u001b[0m\u001b[0;34m)\u001b[0m\u001b[0;34m\u001b[0m\u001b[0m\n\u001b[0m\u001b[1;32m    955\u001b[0m         \u001b[0;32mreturn\u001b[0m \u001b[0mout\u001b[0m\u001b[0;34m\u001b[0m\u001b[0m\n\u001b[1;32m    956\u001b[0m \u001b[0;34m\u001b[0m\u001b[0m\n",
      "\u001b[0;31mKeyboardInterrupt\u001b[0m: "
     ]
    }
   ],
   "source": [
    "for alpha in np.arange(0.5, 0.09, -0.05):\n",
    "    min_rmse = 5\n",
    "    prediction = user_based_collaborative_filtering(train_sm, alpha)\n",
    "    rmse = rmse_score(val_sm, prediction)\n",
    "    ndcg = ndcg_score(val_sm, prediction)\n",
    "    print('alpha = {}, rmse: {}, ndcg: {}'.format(alpha, rmse, ndcg))\n",
    "    if rmse < min_rmse:\n",
    "        min_rmse = rmse\n",
    "        best_alpha = alpha"
   ]
  },
  {
   "cell_type": "code",
   "execution_count": 42,
   "metadata": {},
   "outputs": [],
   "source": [
    "# Прогноз с beta_alpha\n",
    "#\n",
    "prediction = user_based_collaborative_filtering(train_sm, best_alpha)"
   ]
  },
  {
   "cell_type": "markdown",
   "metadata": {
    "collapsed": true
   },
   "source": [
    "**6. (1 балл)** Какой метод оказался лучше по каким метрикам? Почему?"
   ]
  },
  {
   "cell_type": "markdown",
   "metadata": {
    "collapsed": true
   },
   "source": [
    "При сравнении методов стоит понимать, что очень большое число рейтингов для фильмов неизвестно, поэтому RMSE получалась завышенной, а nDCG - наоборот, заниженной.\n",
    "\n",
    "Тем не менее, можно сказать, что эвристика подхода most popular - выдавать среднюю оценку для фильма слишком проста, чтобы хорошо работать для индивидуальных рекомендаций, ужасные результаты на метриках это подтверждают. Очевидно, этот подход плох тем, что он совершенно не учитывает индивидуальные предпочтения пользователя.\n",
    "\n",
    "Метод с разреженным SVD с точки зрения метрик в некоторой степени можно считать лучшим, однако стоит понимать, что цель SVD - построить лучшее приближение исходной матрицы, матрицей заданного ранга. Таким образом при больших значениях ранга разложения (при которых получаем хорошие оценки с точки зрения метрик), на выходе метода получим матрицу очень близкую к исходной и, например, не сделаем разумных прогнозов рейтингов для фильмов, которые пользователь не смотрел (рейтинги останутся близкими к нулю, при малом значении ранга эта ситуация сильно не меняется).\n",
    "\n",
    "User-based коллаборативная фильтрация показала вполне адекватные результаты, при этом она позволяет проставить разумные оценки фильмам, которые пользователь не смотрел. Ошибка RMSE - 1,9 большая, но стоит помнить о том, что в матрице test очень мало известных рейтингов. Метрика nDCG также пострадала от нехватки большого числа рейтингов но все же показывает результат 0.65. Поскольку значение nDCG $\\in [0,1]$, можно сделать вывод, что модель все же ранжирует фильмы лучше чем случайным образом.\n",
    "\n",
    "\n",
    "В most popular значения метрик низкие. Так как у всех пользователей разные предпочтения, то рекомендация всем пользователям одних и тех же популярных фильмов не даст очень хороших результатов. Нужно как-то учитывать предпочтения пользователей.\n",
    "\n",
    "Затем RMSE почти не изменилось. NDCG стало хуже. Причина, скорее всего, в том, что у пользователей, которые смотрят непопулярные фильмы, очень мало других похожих пользователей, и user-based подход не может на них хорошо работать.\n",
    "\n",
    "С точки зрения обеих метрик, качество предсказания на TruncatedSVD лучше при малых значениях ранга разложения."
   ]
  },
  {
   "cell_type": "markdown",
   "metadata": {},
   "source": [
    "**7. (1 балл)** Приведите достоинства и недостатки используемых метрик. Какие еще метрики можно было бы использовать для решения задачи? Приведите примеры других постановок задачи, как в этом случае можно было бы оценить качество?"
   ]
  },
  {
   "cell_type": "markdown",
   "metadata": {
    "collapsed": true
   },
   "source": [
    "По обеим метрикам лучше всего качество у факторизационных машин. Это объясняется тем, что они предсказывают оценки только на тех фильмах, на которых реальные оценки известны. В остальных моделях оценки предсказывались по каждому фильму для всех пользователей, и при вычислении метрик неизвестные оценки считались равными нулю, поэтому значение $r_{u(i)}$ в большинстве слагаемых было нулем, из-за чего значения метрик были гораздо хуже.\n",
    "\n",
    "Из остальных моделей лучшее значение nDCG@5 показывает разреженный SVD, а лучшее значение RMSE@5 у модели со скрытыми переменными. Первое объясняется тем, что SVD - самый продвинутый из использованных нами методов (модель со скрытыми переменными, по сути, является SVD с рангом разложения 1, а user-based коллаборативная фильтрация учитывает информацию о пользователях, но не учитывает информацию о фильмах). Второе объясняется, скорее всего, тем, что из-за нормировки оценки стали ближе к нулю - самому часто встречающемуся значению в тестовой выборке."
   ]
  }
 ],
 "metadata": {
  "kernelspec": {
   "display_name": "Python 2",
   "language": "python",
   "name": "python2"
  },
  "language_info": {
   "codemirror_mode": {
    "name": "ipython",
    "version": 2
   },
   "file_extension": ".py",
   "mimetype": "text/x-python",
   "name": "python",
   "nbconvert_exporter": "python",
   "pygments_lexer": "ipython2",
   "version": "2.7.15"
  }
 },
 "nbformat": 4,
 "nbformat_minor": 1
}
